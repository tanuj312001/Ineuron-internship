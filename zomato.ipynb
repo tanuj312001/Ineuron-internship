{
 "cells": [
  {
   "cell_type": "code",
   "execution_count": 1,
   "metadata": {},
   "outputs": [],
   "source": [
    "import pandas as pd\n",
    "import matplotlib.pyplot as plt\n",
    "import seaborn as sns\n",
    "import numpy as np\n",
    "import missingno as msno\n",
    "%matplotlib inline"
   ]
  },
  {
   "cell_type": "markdown",
   "metadata": {},
   "source": [
    "# Data preprocessing"
   ]
  },
  {
   "cell_type": "code",
   "execution_count": 2,
   "metadata": {},
   "outputs": [],
   "source": [
    "data=pd.read_csv('zomato.csv')\n"
   ]
  },
  {
   "cell_type": "code",
   "execution_count": 3,
   "metadata": {},
   "outputs": [
    {
     "data": {
      "text/html": [
       "<div>\n",
       "<style scoped>\n",
       "    .dataframe tbody tr th:only-of-type {\n",
       "        vertical-align: middle;\n",
       "    }\n",
       "\n",
       "    .dataframe tbody tr th {\n",
       "        vertical-align: top;\n",
       "    }\n",
       "\n",
       "    .dataframe thead th {\n",
       "        text-align: right;\n",
       "    }\n",
       "</style>\n",
       "<table border=\"1\" class=\"dataframe\">\n",
       "  <thead>\n",
       "    <tr style=\"text-align: right;\">\n",
       "      <th></th>\n",
       "      <th>url</th>\n",
       "      <th>address</th>\n",
       "      <th>name</th>\n",
       "      <th>online_order</th>\n",
       "      <th>book_table</th>\n",
       "      <th>rate</th>\n",
       "      <th>votes</th>\n",
       "      <th>phone</th>\n",
       "      <th>location</th>\n",
       "      <th>rest_type</th>\n",
       "      <th>dish_liked</th>\n",
       "      <th>cuisines</th>\n",
       "      <th>approx_cost(for two people)</th>\n",
       "      <th>reviews_list</th>\n",
       "      <th>menu_item</th>\n",
       "      <th>listed_in(type)</th>\n",
       "      <th>listed_in(city)</th>\n",
       "    </tr>\n",
       "  </thead>\n",
       "  <tbody>\n",
       "    <tr>\n",
       "      <th>0</th>\n",
       "      <td>https://www.zomato.com/bangalore/jalsa-banasha...</td>\n",
       "      <td>942, 21st Main Road, 2nd Stage, Banashankari, ...</td>\n",
       "      <td>Jalsa</td>\n",
       "      <td>Yes</td>\n",
       "      <td>Yes</td>\n",
       "      <td>4.1/5</td>\n",
       "      <td>775</td>\n",
       "      <td>080 42297555\\r\\n+91 9743772233</td>\n",
       "      <td>Banashankari</td>\n",
       "      <td>Casual Dining</td>\n",
       "      <td>Pasta, Lunch Buffet, Masala Papad, Paneer Laja...</td>\n",
       "      <td>North Indian, Mughlai, Chinese</td>\n",
       "      <td>800</td>\n",
       "      <td>[('Rated 4.0', 'RATED\\n  A beautiful place to ...</td>\n",
       "      <td>[]</td>\n",
       "      <td>Buffet</td>\n",
       "      <td>Banashankari</td>\n",
       "    </tr>\n",
       "    <tr>\n",
       "      <th>1</th>\n",
       "      <td>https://www.zomato.com/bangalore/spice-elephan...</td>\n",
       "      <td>2nd Floor, 80 Feet Road, Near Big Bazaar, 6th ...</td>\n",
       "      <td>Spice Elephant</td>\n",
       "      <td>Yes</td>\n",
       "      <td>No</td>\n",
       "      <td>4.1/5</td>\n",
       "      <td>787</td>\n",
       "      <td>080 41714161</td>\n",
       "      <td>Banashankari</td>\n",
       "      <td>Casual Dining</td>\n",
       "      <td>Momos, Lunch Buffet, Chocolate Nirvana, Thai G...</td>\n",
       "      <td>Chinese, North Indian, Thai</td>\n",
       "      <td>800</td>\n",
       "      <td>[('Rated 4.0', 'RATED\\n  Had been here for din...</td>\n",
       "      <td>[]</td>\n",
       "      <td>Buffet</td>\n",
       "      <td>Banashankari</td>\n",
       "    </tr>\n",
       "    <tr>\n",
       "      <th>2</th>\n",
       "      <td>https://www.zomato.com/SanchurroBangalore?cont...</td>\n",
       "      <td>1112, Next to KIMS Medical College, 17th Cross...</td>\n",
       "      <td>San Churro Cafe</td>\n",
       "      <td>Yes</td>\n",
       "      <td>No</td>\n",
       "      <td>3.8/5</td>\n",
       "      <td>918</td>\n",
       "      <td>+91 9663487993</td>\n",
       "      <td>Banashankari</td>\n",
       "      <td>Cafe, Casual Dining</td>\n",
       "      <td>Churros, Cannelloni, Minestrone Soup, Hot Choc...</td>\n",
       "      <td>Cafe, Mexican, Italian</td>\n",
       "      <td>800</td>\n",
       "      <td>[('Rated 3.0', \"RATED\\n  Ambience is not that ...</td>\n",
       "      <td>[]</td>\n",
       "      <td>Buffet</td>\n",
       "      <td>Banashankari</td>\n",
       "    </tr>\n",
       "    <tr>\n",
       "      <th>3</th>\n",
       "      <td>https://www.zomato.com/bangalore/addhuri-udupi...</td>\n",
       "      <td>1st Floor, Annakuteera, 3rd Stage, Banashankar...</td>\n",
       "      <td>Addhuri Udupi Bhojana</td>\n",
       "      <td>No</td>\n",
       "      <td>No</td>\n",
       "      <td>3.7/5</td>\n",
       "      <td>88</td>\n",
       "      <td>+91 9620009302</td>\n",
       "      <td>Banashankari</td>\n",
       "      <td>Quick Bites</td>\n",
       "      <td>Masala Dosa</td>\n",
       "      <td>South Indian, North Indian</td>\n",
       "      <td>300</td>\n",
       "      <td>[('Rated 4.0', \"RATED\\n  Great food and proper...</td>\n",
       "      <td>[]</td>\n",
       "      <td>Buffet</td>\n",
       "      <td>Banashankari</td>\n",
       "    </tr>\n",
       "    <tr>\n",
       "      <th>4</th>\n",
       "      <td>https://www.zomato.com/bangalore/grand-village...</td>\n",
       "      <td>10, 3rd Floor, Lakshmi Associates, Gandhi Baza...</td>\n",
       "      <td>Grand Village</td>\n",
       "      <td>No</td>\n",
       "      <td>No</td>\n",
       "      <td>3.8/5</td>\n",
       "      <td>166</td>\n",
       "      <td>+91 8026612447\\r\\n+91 9901210005</td>\n",
       "      <td>Basavanagudi</td>\n",
       "      <td>Casual Dining</td>\n",
       "      <td>Panipuri, Gol Gappe</td>\n",
       "      <td>North Indian, Rajasthani</td>\n",
       "      <td>600</td>\n",
       "      <td>[('Rated 4.0', 'RATED\\n  Very good restaurant ...</td>\n",
       "      <td>[]</td>\n",
       "      <td>Buffet</td>\n",
       "      <td>Banashankari</td>\n",
       "    </tr>\n",
       "    <tr>\n",
       "      <th>5</th>\n",
       "      <td>https://www.zomato.com/bangalore/timepass-dinn...</td>\n",
       "      <td>37, 5-1, 4th Floor, Bosco Court, Gandhi Bazaar...</td>\n",
       "      <td>Timepass Dinner</td>\n",
       "      <td>Yes</td>\n",
       "      <td>No</td>\n",
       "      <td>3.8/5</td>\n",
       "      <td>286</td>\n",
       "      <td>+91 9980040002\\r\\n+91 9980063005</td>\n",
       "      <td>Basavanagudi</td>\n",
       "      <td>Casual Dining</td>\n",
       "      <td>Onion Rings, Pasta, Kadhai Paneer, Salads, Sal...</td>\n",
       "      <td>North Indian</td>\n",
       "      <td>600</td>\n",
       "      <td>[('Rated 3.0', 'RATED\\n  Food 3/5\\nAmbience 3/...</td>\n",
       "      <td>[]</td>\n",
       "      <td>Buffet</td>\n",
       "      <td>Banashankari</td>\n",
       "    </tr>\n",
       "    <tr>\n",
       "      <th>6</th>\n",
       "      <td>https://www.zomato.com/bangalore/rosewood-inte...</td>\n",
       "      <td>19/1, New Timberyard Layout, Beside Satellite ...</td>\n",
       "      <td>Rosewood International Hotel - Bar &amp; Restaurant</td>\n",
       "      <td>No</td>\n",
       "      <td>No</td>\n",
       "      <td>3.6/5</td>\n",
       "      <td>8</td>\n",
       "      <td>+91 9731716688\\r\\n080 26740366</td>\n",
       "      <td>Mysore Road</td>\n",
       "      <td>Casual Dining</td>\n",
       "      <td>NaN</td>\n",
       "      <td>North Indian, South Indian, Andhra, Chinese</td>\n",
       "      <td>800</td>\n",
       "      <td>[('Rated 5.0', 'RATED\\n  Awesome food ??Great ...</td>\n",
       "      <td>[]</td>\n",
       "      <td>Buffet</td>\n",
       "      <td>Banashankari</td>\n",
       "    </tr>\n",
       "    <tr>\n",
       "      <th>7</th>\n",
       "      <td>https://www.zomato.com/bangalore/onesta-banash...</td>\n",
       "      <td>2469, 3rd Floor, 24th Cross, Opposite BDA Comp...</td>\n",
       "      <td>Onesta</td>\n",
       "      <td>Yes</td>\n",
       "      <td>Yes</td>\n",
       "      <td>4.6/5</td>\n",
       "      <td>2556</td>\n",
       "      <td>080 48653961\\r\\n080 48655715</td>\n",
       "      <td>Banashankari</td>\n",
       "      <td>Casual Dining, Cafe</td>\n",
       "      <td>Farmhouse Pizza, Chocolate Banana, Virgin Moji...</td>\n",
       "      <td>Pizza, Cafe, Italian</td>\n",
       "      <td>600</td>\n",
       "      <td>[('Rated 5.0', 'RATED\\n  I personally really l...</td>\n",
       "      <td>[]</td>\n",
       "      <td>Cafes</td>\n",
       "      <td>Banashankari</td>\n",
       "    </tr>\n",
       "    <tr>\n",
       "      <th>8</th>\n",
       "      <td>https://www.zomato.com/bangalore/penthouse-caf...</td>\n",
       "      <td>1, 30th Main Road, 3rd Stage, Banashankari, Ba...</td>\n",
       "      <td>Penthouse Cafe</td>\n",
       "      <td>Yes</td>\n",
       "      <td>No</td>\n",
       "      <td>4.0/5</td>\n",
       "      <td>324</td>\n",
       "      <td>+91 8884135549\\r\\n+91 9449449316</td>\n",
       "      <td>Banashankari</td>\n",
       "      <td>Cafe</td>\n",
       "      <td>Pizza, Mocktails, Coffee, Nachos, Salad, Pasta...</td>\n",
       "      <td>Cafe, Italian, Continental</td>\n",
       "      <td>700</td>\n",
       "      <td>[('Rated 3.0', \"RATED\\n  I had been to this pl...</td>\n",
       "      <td>[]</td>\n",
       "      <td>Cafes</td>\n",
       "      <td>Banashankari</td>\n",
       "    </tr>\n",
       "    <tr>\n",
       "      <th>9</th>\n",
       "      <td>https://www.zomato.com/bangalore/smacznego-ban...</td>\n",
       "      <td>2470, 21 Main Road, 25th Cross, Banashankari, ...</td>\n",
       "      <td>Smacznego</td>\n",
       "      <td>Yes</td>\n",
       "      <td>No</td>\n",
       "      <td>4.2/5</td>\n",
       "      <td>504</td>\n",
       "      <td>+91 9945230807\\r\\n+91 9743804471</td>\n",
       "      <td>Banashankari</td>\n",
       "      <td>Cafe</td>\n",
       "      <td>Waffles, Pasta, Coleslaw Sandwich, Choco Waffl...</td>\n",
       "      <td>Cafe, Mexican, Italian, Momos, Beverages</td>\n",
       "      <td>550</td>\n",
       "      <td>[('Rated 4.0', \"RATED\\n  Easy to locate\\nVFM 3...</td>\n",
       "      <td>[]</td>\n",
       "      <td>Cafes</td>\n",
       "      <td>Banashankari</td>\n",
       "    </tr>\n",
       "  </tbody>\n",
       "</table>\n",
       "</div>"
      ],
      "text/plain": [
       "                                                 url  \\\n",
       "0  https://www.zomato.com/bangalore/jalsa-banasha...   \n",
       "1  https://www.zomato.com/bangalore/spice-elephan...   \n",
       "2  https://www.zomato.com/SanchurroBangalore?cont...   \n",
       "3  https://www.zomato.com/bangalore/addhuri-udupi...   \n",
       "4  https://www.zomato.com/bangalore/grand-village...   \n",
       "5  https://www.zomato.com/bangalore/timepass-dinn...   \n",
       "6  https://www.zomato.com/bangalore/rosewood-inte...   \n",
       "7  https://www.zomato.com/bangalore/onesta-banash...   \n",
       "8  https://www.zomato.com/bangalore/penthouse-caf...   \n",
       "9  https://www.zomato.com/bangalore/smacznego-ban...   \n",
       "\n",
       "                                             address  \\\n",
       "0  942, 21st Main Road, 2nd Stage, Banashankari, ...   \n",
       "1  2nd Floor, 80 Feet Road, Near Big Bazaar, 6th ...   \n",
       "2  1112, Next to KIMS Medical College, 17th Cross...   \n",
       "3  1st Floor, Annakuteera, 3rd Stage, Banashankar...   \n",
       "4  10, 3rd Floor, Lakshmi Associates, Gandhi Baza...   \n",
       "5  37, 5-1, 4th Floor, Bosco Court, Gandhi Bazaar...   \n",
       "6  19/1, New Timberyard Layout, Beside Satellite ...   \n",
       "7  2469, 3rd Floor, 24th Cross, Opposite BDA Comp...   \n",
       "8  1, 30th Main Road, 3rd Stage, Banashankari, Ba...   \n",
       "9  2470, 21 Main Road, 25th Cross, Banashankari, ...   \n",
       "\n",
       "                                              name online_order book_table  \\\n",
       "0                                            Jalsa          Yes        Yes   \n",
       "1                                   Spice Elephant          Yes         No   \n",
       "2                                  San Churro Cafe          Yes         No   \n",
       "3                            Addhuri Udupi Bhojana           No         No   \n",
       "4                                    Grand Village           No         No   \n",
       "5                                  Timepass Dinner          Yes         No   \n",
       "6  Rosewood International Hotel - Bar & Restaurant           No         No   \n",
       "7                                           Onesta          Yes        Yes   \n",
       "8                                   Penthouse Cafe          Yes         No   \n",
       "9                                        Smacznego          Yes         No   \n",
       "\n",
       "    rate  votes                             phone      location  \\\n",
       "0  4.1/5    775    080 42297555\\r\\n+91 9743772233  Banashankari   \n",
       "1  4.1/5    787                      080 41714161  Banashankari   \n",
       "2  3.8/5    918                    +91 9663487993  Banashankari   \n",
       "3  3.7/5     88                    +91 9620009302  Banashankari   \n",
       "4  3.8/5    166  +91 8026612447\\r\\n+91 9901210005  Basavanagudi   \n",
       "5  3.8/5    286  +91 9980040002\\r\\n+91 9980063005  Basavanagudi   \n",
       "6  3.6/5      8    +91 9731716688\\r\\n080 26740366   Mysore Road   \n",
       "7  4.6/5   2556      080 48653961\\r\\n080 48655715  Banashankari   \n",
       "8  4.0/5    324  +91 8884135549\\r\\n+91 9449449316  Banashankari   \n",
       "9  4.2/5    504  +91 9945230807\\r\\n+91 9743804471  Banashankari   \n",
       "\n",
       "             rest_type                                         dish_liked  \\\n",
       "0        Casual Dining  Pasta, Lunch Buffet, Masala Papad, Paneer Laja...   \n",
       "1        Casual Dining  Momos, Lunch Buffet, Chocolate Nirvana, Thai G...   \n",
       "2  Cafe, Casual Dining  Churros, Cannelloni, Minestrone Soup, Hot Choc...   \n",
       "3          Quick Bites                                        Masala Dosa   \n",
       "4        Casual Dining                                Panipuri, Gol Gappe   \n",
       "5        Casual Dining  Onion Rings, Pasta, Kadhai Paneer, Salads, Sal...   \n",
       "6        Casual Dining                                                NaN   \n",
       "7  Casual Dining, Cafe  Farmhouse Pizza, Chocolate Banana, Virgin Moji...   \n",
       "8                 Cafe  Pizza, Mocktails, Coffee, Nachos, Salad, Pasta...   \n",
       "9                 Cafe  Waffles, Pasta, Coleslaw Sandwich, Choco Waffl...   \n",
       "\n",
       "                                      cuisines approx_cost(for two people)  \\\n",
       "0               North Indian, Mughlai, Chinese                         800   \n",
       "1                  Chinese, North Indian, Thai                         800   \n",
       "2                       Cafe, Mexican, Italian                         800   \n",
       "3                   South Indian, North Indian                         300   \n",
       "4                     North Indian, Rajasthani                         600   \n",
       "5                                 North Indian                         600   \n",
       "6  North Indian, South Indian, Andhra, Chinese                         800   \n",
       "7                         Pizza, Cafe, Italian                         600   \n",
       "8                   Cafe, Italian, Continental                         700   \n",
       "9     Cafe, Mexican, Italian, Momos, Beverages                         550   \n",
       "\n",
       "                                        reviews_list menu_item  \\\n",
       "0  [('Rated 4.0', 'RATED\\n  A beautiful place to ...        []   \n",
       "1  [('Rated 4.0', 'RATED\\n  Had been here for din...        []   \n",
       "2  [('Rated 3.0', \"RATED\\n  Ambience is not that ...        []   \n",
       "3  [('Rated 4.0', \"RATED\\n  Great food and proper...        []   \n",
       "4  [('Rated 4.0', 'RATED\\n  Very good restaurant ...        []   \n",
       "5  [('Rated 3.0', 'RATED\\n  Food 3/5\\nAmbience 3/...        []   \n",
       "6  [('Rated 5.0', 'RATED\\n  Awesome food ??Great ...        []   \n",
       "7  [('Rated 5.0', 'RATED\\n  I personally really l...        []   \n",
       "8  [('Rated 3.0', \"RATED\\n  I had been to this pl...        []   \n",
       "9  [('Rated 4.0', \"RATED\\n  Easy to locate\\nVFM 3...        []   \n",
       "\n",
       "  listed_in(type) listed_in(city)  \n",
       "0          Buffet    Banashankari  \n",
       "1          Buffet    Banashankari  \n",
       "2          Buffet    Banashankari  \n",
       "3          Buffet    Banashankari  \n",
       "4          Buffet    Banashankari  \n",
       "5          Buffet    Banashankari  \n",
       "6          Buffet    Banashankari  \n",
       "7           Cafes    Banashankari  \n",
       "8           Cafes    Banashankari  \n",
       "9           Cafes    Banashankari  "
      ]
     },
     "execution_count": 3,
     "metadata": {},
     "output_type": "execute_result"
    }
   ],
   "source": [
    "data.head(10)\n"
   ]
  },
  {
   "cell_type": "code",
   "execution_count": 4,
   "metadata": {},
   "outputs": [
    {
     "data": {
      "text/html": [
       "<div>\n",
       "<style scoped>\n",
       "    .dataframe tbody tr th:only-of-type {\n",
       "        vertical-align: middle;\n",
       "    }\n",
       "\n",
       "    .dataframe tbody tr th {\n",
       "        vertical-align: top;\n",
       "    }\n",
       "\n",
       "    .dataframe thead th {\n",
       "        text-align: right;\n",
       "    }\n",
       "</style>\n",
       "<table border=\"1\" class=\"dataframe\">\n",
       "  <thead>\n",
       "    <tr style=\"text-align: right;\">\n",
       "      <th></th>\n",
       "      <th>votes</th>\n",
       "    </tr>\n",
       "  </thead>\n",
       "  <tbody>\n",
       "    <tr>\n",
       "      <th>count</th>\n",
       "      <td>51717.000000</td>\n",
       "    </tr>\n",
       "    <tr>\n",
       "      <th>mean</th>\n",
       "      <td>283.697527</td>\n",
       "    </tr>\n",
       "    <tr>\n",
       "      <th>std</th>\n",
       "      <td>803.838853</td>\n",
       "    </tr>\n",
       "    <tr>\n",
       "      <th>min</th>\n",
       "      <td>0.000000</td>\n",
       "    </tr>\n",
       "    <tr>\n",
       "      <th>25%</th>\n",
       "      <td>7.000000</td>\n",
       "    </tr>\n",
       "    <tr>\n",
       "      <th>50%</th>\n",
       "      <td>41.000000</td>\n",
       "    </tr>\n",
       "    <tr>\n",
       "      <th>75%</th>\n",
       "      <td>198.000000</td>\n",
       "    </tr>\n",
       "    <tr>\n",
       "      <th>max</th>\n",
       "      <td>16832.000000</td>\n",
       "    </tr>\n",
       "  </tbody>\n",
       "</table>\n",
       "</div>"
      ],
      "text/plain": [
       "              votes\n",
       "count  51717.000000\n",
       "mean     283.697527\n",
       "std      803.838853\n",
       "min        0.000000\n",
       "25%        7.000000\n",
       "50%       41.000000\n",
       "75%      198.000000\n",
       "max    16832.000000"
      ]
     },
     "execution_count": 4,
     "metadata": {},
     "output_type": "execute_result"
    }
   ],
   "source": [
    "data.describe()"
   ]
  },
  {
   "cell_type": "code",
   "execution_count": 5,
   "metadata": {},
   "outputs": [],
   "source": [
    "#dropping unneccesary columns \n",
    "data.drop(['url', 'address', 'phone','name','listed_in(city)','cuisines','dish_liked','reviews_list','menu_item'], axis=1, inplace = True)"
   ]
  },
  {
   "cell_type": "code",
   "execution_count": 6,
   "metadata": {},
   "outputs": [],
   "source": [
    "#renaming some columns\n",
    "data.rename(columns = {\"approx_cost(for two people)\" : \"cost_two\", \"listed_in(type)\" : \"service_type\"}, inplace = True)"
   ]
  },
  {
   "cell_type": "markdown",
   "metadata": {},
   "source": [
    "<ul> <li>Converting cost_two to float and slicing rate column.\n",
    "<li>Since cost_two has comma, we can't directly convert it to float"
   ]
  },
  {
   "cell_type": "code",
   "execution_count": 7,
   "metadata": {},
   "outputs": [],
   "source": [
    "data['cost_two']=data['cost_two'].astype(str)\n",
    "data['cost_two']=data['cost_two'].apply(lambda x:x.replace(',','')).astype(float)"
   ]
  },
  {
   "cell_type": "code",
   "execution_count": 8,
   "metadata": {},
   "outputs": [
    {
     "data": {
      "text/plain": [
       "array(['4.1/5', '3.8/5', '3.7/5', '3.6/5', '4.6/5', '4.0/5', '4.2/5',\n",
       "       '3.9/5', '3.1/5', '3.0/5', '3.2/5', '3.3/5', '2.8/5', '4.4/5',\n",
       "       '4.3/5', 'NEW', '2.9/5', '3.5/5', nan, '2.6/5', '3.8 /5', '3.4/5',\n",
       "       '4.5/5', '2.5/5', '2.7/5', '4.7/5', '2.4/5', '2.2/5', '2.3/5',\n",
       "       '3.4 /5', '-', '3.6 /5', '4.8/5', '3.9 /5', '4.2 /5', '4.0 /5',\n",
       "       '4.1 /5', '3.7 /5', '3.1 /5', '2.9 /5', '3.3 /5', '2.8 /5',\n",
       "       '3.5 /5', '2.7 /5', '2.5 /5', '3.2 /5', '2.6 /5', '4.5 /5',\n",
       "       '4.3 /5', '4.4 /5', '4.9/5', '2.1/5', '2.0/5', '1.8/5', '4.6 /5',\n",
       "       '4.9 /5', '3.0 /5', '4.8 /5', '2.3 /5', '4.7 /5', '2.4 /5',\n",
       "       '2.1 /5', '2.2 /5', '2.0 /5', '1.8 /5'], dtype=object)"
      ]
     },
     "execution_count": 8,
     "metadata": {},
     "output_type": "execute_result"
    }
   ],
   "source": [
    "data['rate'].unique()"
   ]
  },
  {
   "cell_type": "code",
   "execution_count": 9,
   "metadata": {},
   "outputs": [],
   "source": [
    "data['rate']=data['rate'].replace('NEW',np.NaN)\n",
    "data['rate']=data['rate'].replace('-',np.NaN)\n",
    "data['rate']=data['rate'].astype(str)"
   ]
  },
  {
   "cell_type": "code",
   "execution_count": 10,
   "metadata": {},
   "outputs": [],
   "source": [
    "data['rate']=data['rate'].apply(lambda x:x.replace('/5','')).astype(float)"
   ]
  },
  {
   "cell_type": "markdown",
   "metadata": {},
   "source": [
    "# Missing values"
   ]
  },
  {
   "cell_type": "code",
   "execution_count": 11,
   "metadata": {},
   "outputs": [
    {
     "data": {
      "text/plain": [
       "<AxesSubplot:>"
      ]
     },
     "execution_count": 11,
     "metadata": {},
     "output_type": "execute_result"
    },
    {
     "data": {
      "image/png": "[encoded data removed]",
      "text/plain": [
       "<Figure size 1800x720 with 2 Axes>"
      ]
     },
     "metadata": {
      "needs_background": "light"
     },
     "output_type": "display_data"
    }
   ],
   "source": [
    "msno.matrix(data)"
   ]
  },
  {
   "cell_type": "code",
   "execution_count": 12,
   "metadata": {},
   "outputs": [
    {
     "data": {
      "text/plain": [
       "online_order        0\n",
       "book_table          0\n",
       "rate            10052\n",
       "votes               0\n",
       "location           21\n",
       "rest_type         227\n",
       "cost_two          346\n",
       "service_type        0\n",
       "dtype: int64"
      ]
     },
     "execution_count": 12,
     "metadata": {},
     "output_type": "execute_result"
    }
   ],
   "source": [
    "data.isna().sum()"
   ]
  },
  {
   "cell_type": "markdown",
   "metadata": {},
   "source": [
    "<ul> <li>Clearly, dish_liked column has almost half values missing . We will drop it because anyways we won't use it in our prediction.</li>\n",
    "    <li> Drop missing values from rest_type </li>\n",
    "    <li>Replacing missing values of rate with mean.</li>"
   ]
  },
  {
   "cell_type": "code",
   "execution_count": 13,
   "metadata": {},
   "outputs": [],
   "source": [
    "data['rate'] = data['rate'].fillna(data['rate'].mean())\n",
    "data['cost_two'] = data['cost_two'].fillna(data['cost_two'].mean())"
   ]
  },
  {
   "cell_type": "code",
   "execution_count": 14,
   "metadata": {},
   "outputs": [],
   "source": [
    "data.dropna(how='any',inplace=True)"
   ]
  },
  {
   "cell_type": "markdown",
   "metadata": {},
   "source": [
    "# Exploratory data analysis"
   ]
  },
  {
   "cell_type": "code",
   "execution_count": 15,
   "metadata": {},
   "outputs": [
    {
     "data": {
      "text/plain": [
       "<AxesSubplot:xlabel='online_order', ylabel='count'>"
      ]
     },
     "execution_count": 15,
     "metadata": {},
     "output_type": "execute_result"
    },
    {
     "data": {
      "image/png": "[encoded data removed]",
      "text/plain": [
       "<Figure size 432x288 with 1 Axes>"
      ]
     },
     "metadata": {
      "needs_background": "light"
     },
     "output_type": "display_data"
    }
   ],
   "source": [
    "sns.countplot(x=data['online_order'])"
   ]
  },
  {
   "cell_type": "markdown",
   "metadata": {},
   "source": [
    "Many resaturants still don't have online ordering in place."
   ]
  },
  {
   "cell_type": "code",
   "execution_count": 16,
   "metadata": {},
   "outputs": [
    {
     "data": {
      "text/plain": [
       "<AxesSubplot:xlabel='service_type', ylabel='count'>"
      ]
     },
     "execution_count": 16,
     "metadata": {},
     "output_type": "execute_result"
    },
    {
     "data": {
      "image/png": "[encoded data removed]",
      "text/plain": [
       "<Figure size 936x432 with 1 Axes>"
      ]
     },
     "metadata": {
      "needs_background": "light"
     },
     "output_type": "display_data"
    }
   ],
   "source": [
    "plt.figure(figsize=(13,6))\n",
    "sns.countplot(x=data['service_type'])"
   ]
  },
  {
   "cell_type": "markdown",
   "metadata": {},
   "source": [
    "With the advent of Zomato and similar apps, we can understand the delivery boom."
   ]
  },
  {
   "cell_type": "code",
   "execution_count": 17,
   "metadata": {},
   "outputs": [
    {
     "data": {
      "text/plain": [
       "<AxesSubplot:xlabel='rate', ylabel='Count'>"
      ]
     },
     "execution_count": 17,
     "metadata": {},
     "output_type": "execute_result"
    },
    {
     "data": {
      "image/png": "[encoded data removed]",
      "text/plain": [
       "<Figure size 432x288 with 1 Axes>"
      ]
     },
     "metadata": {
      "needs_background": "light"
     },
     "output_type": "display_data"
    }
   ],
   "source": [
    "sns.histplot(x=data['rate'],kde=True,bins=10)"
   ]
  },
  {
   "cell_type": "code",
   "execution_count": 20,
   "metadata": {},
   "outputs": [
    {
     "data": {
      "text/plain": [
       "<AxesSubplot:xlabel='votes'>"
      ]
     },
     "execution_count": 20,
     "metadata": {},
     "output_type": "execute_result"
    },
    {
     "data": {
      "image/png": "[encoded data removed]",
      "text/plain": [
       "<Figure size 864x576 with 3 Axes>"
      ]
     },
     "metadata": {
      "needs_background": "light"
     },
     "output_type": "display_data"
    }
   ],
   "source": [
    "plt.figure(figsize=(12,8))\n",
    "plt.subplot(2,2,1)\n",
    "sns.boxplot(x=data['cost_two'])\n",
    "plt.subplot(2,2,2)\n",
    "sns.boxplot(x=data['rate'])\n",
    "plt.subplot(2,2,3)\n",
    "sns.boxplot(x=data['votes'])"
   ]
  },
  {
   "cell_type": "code",
   "execution_count": null,
   "metadata": {},
   "outputs": [],
   "source": []
  },
  {
   "cell_type": "code",
   "execution_count": 21,
   "metadata": {},
   "outputs": [
    {
     "data": {
      "text/plain": [
       "Text(0.5, 1.0, 'Distribution of restaurant rating over online order facility')"
      ]
     },
     "execution_count": 21,
     "metadata": {},
     "output_type": "execute_result"
    },
    {
     "data": {
      "image/png": "[encoded data removed]",
      "text/plain": [
       "<Figure size 1080x576 with 1 Axes>"
      ]
     },
     "metadata": {
      "needs_background": "light"
     },
     "output_type": "display_data"
    }
   ],
   "source": [
    "plt.figure(figsize=(15,8))\n",
    "sns.countplot(x=data['rate'],hue=data['online_order'])\n",
    "plt.title(\"Distribution of restaurant rating over online order facility\")"
   ]
  },
  {
   "cell_type": "code",
   "execution_count": 22,
   "metadata": {},
   "outputs": [],
   "source": [
    "x = data.drop(['rate'], axis = 1)\n",
    "y = data['rate']"
   ]
  },
  {
   "cell_type": "code",
   "execution_count": 23,
   "metadata": {},
   "outputs": [],
   "source": [
    "from sklearn.model_selection import train_test_split\n",
    "X_train, X_test, y_train, y_test=train_test_split(x,y,test_size=0.20)"
   ]
  },
  {
   "cell_type": "code",
   "execution_count": 24,
   "metadata": {},
   "outputs": [],
   "source": [
    "from sklearn.compose import ColumnTransformer\n",
    "from sklearn.impute import SimpleImputer \n",
    "from sklearn.preprocessing import OneHotEncoder\n",
    "from sklearn.pipeline import Pipeline,make_pipeline \n",
    "from sklearn.preprocessing import MinMaxScaler"
   ]
  },
  {
   "cell_type": "code",
   "execution_count": 25,
   "metadata": {},
   "outputs": [
    {
     "data": {
      "text/html": [
       "<div>\n",
       "<style scoped>\n",
       "    .dataframe tbody tr th:only-of-type {\n",
       "        vertical-align: middle;\n",
       "    }\n",
       "\n",
       "    .dataframe tbody tr th {\n",
       "        vertical-align: top;\n",
       "    }\n",
       "\n",
       "    .dataframe thead th {\n",
       "        text-align: right;\n",
       "    }\n",
       "</style>\n",
       "<table border=\"1\" class=\"dataframe\">\n",
       "  <thead>\n",
       "    <tr style=\"text-align: right;\">\n",
       "      <th></th>\n",
       "      <th>online_order</th>\n",
       "      <th>book_table</th>\n",
       "      <th>votes</th>\n",
       "      <th>location</th>\n",
       "      <th>rest_type</th>\n",
       "      <th>cost_two</th>\n",
       "      <th>service_type</th>\n",
       "    </tr>\n",
       "  </thead>\n",
       "  <tbody>\n",
       "    <tr>\n",
       "      <th>18634</th>\n",
       "      <td>No</td>\n",
       "      <td>No</td>\n",
       "      <td>9</td>\n",
       "      <td>Old Airport Road</td>\n",
       "      <td>Takeaway, Delivery</td>\n",
       "      <td>400.0</td>\n",
       "      <td>Desserts</td>\n",
       "    </tr>\n",
       "    <tr>\n",
       "      <th>28579</th>\n",
       "      <td>Yes</td>\n",
       "      <td>No</td>\n",
       "      <td>394</td>\n",
       "      <td>Koramangala 7th Block</td>\n",
       "      <td>Casual Dining</td>\n",
       "      <td>750.0</td>\n",
       "      <td>Dine-out</td>\n",
       "    </tr>\n",
       "    <tr>\n",
       "      <th>9578</th>\n",
       "      <td>No</td>\n",
       "      <td>No</td>\n",
       "      <td>22</td>\n",
       "      <td>BTM</td>\n",
       "      <td>Cafe</td>\n",
       "      <td>500.0</td>\n",
       "      <td>Delivery</td>\n",
       "    </tr>\n",
       "    <tr>\n",
       "      <th>8979</th>\n",
       "      <td>Yes</td>\n",
       "      <td>No</td>\n",
       "      <td>36</td>\n",
       "      <td>Koramangala 7th Block</td>\n",
       "      <td>Beverage Shop</td>\n",
       "      <td>300.0</td>\n",
       "      <td>Delivery</td>\n",
       "    </tr>\n",
       "    <tr>\n",
       "      <th>39989</th>\n",
       "      <td>No</td>\n",
       "      <td>No</td>\n",
       "      <td>0</td>\n",
       "      <td>Majestic</td>\n",
       "      <td>Takeaway</td>\n",
       "      <td>300.0</td>\n",
       "      <td>Delivery</td>\n",
       "    </tr>\n",
       "    <tr>\n",
       "      <th>...</th>\n",
       "      <td>...</td>\n",
       "      <td>...</td>\n",
       "      <td>...</td>\n",
       "      <td>...</td>\n",
       "      <td>...</td>\n",
       "      <td>...</td>\n",
       "      <td>...</td>\n",
       "    </tr>\n",
       "    <tr>\n",
       "      <th>16191</th>\n",
       "      <td>Yes</td>\n",
       "      <td>No</td>\n",
       "      <td>287</td>\n",
       "      <td>Koramangala 4th Block</td>\n",
       "      <td>Delivery</td>\n",
       "      <td>400.0</td>\n",
       "      <td>Delivery</td>\n",
       "    </tr>\n",
       "    <tr>\n",
       "      <th>25682</th>\n",
       "      <td>No</td>\n",
       "      <td>No</td>\n",
       "      <td>14</td>\n",
       "      <td>Kalyan Nagar</td>\n",
       "      <td>Casual Dining</td>\n",
       "      <td>600.0</td>\n",
       "      <td>Delivery</td>\n",
       "    </tr>\n",
       "    <tr>\n",
       "      <th>24970</th>\n",
       "      <td>No</td>\n",
       "      <td>No</td>\n",
       "      <td>0</td>\n",
       "      <td>Kammanahalli</td>\n",
       "      <td>Quick Bites</td>\n",
       "      <td>250.0</td>\n",
       "      <td>Dine-out</td>\n",
       "    </tr>\n",
       "    <tr>\n",
       "      <th>23594</th>\n",
       "      <td>Yes</td>\n",
       "      <td>No</td>\n",
       "      <td>74</td>\n",
       "      <td>Jayanagar</td>\n",
       "      <td>Casual Dining</td>\n",
       "      <td>800.0</td>\n",
       "      <td>Dine-out</td>\n",
       "    </tr>\n",
       "    <tr>\n",
       "      <th>33844</th>\n",
       "      <td>Yes</td>\n",
       "      <td>No</td>\n",
       "      <td>47</td>\n",
       "      <td>Koramangala 6th Block</td>\n",
       "      <td>Casual Dining</td>\n",
       "      <td>800.0</td>\n",
       "      <td>Dine-out</td>\n",
       "    </tr>\n",
       "  </tbody>\n",
       "</table>\n",
       "<p>41192 rows × 7 columns</p>\n",
       "</div>"
      ],
      "text/plain": [
       "      online_order book_table  votes               location  \\\n",
       "18634           No         No      9       Old Airport Road   \n",
       "28579          Yes         No    394  Koramangala 7th Block   \n",
       "9578            No         No     22                    BTM   \n",
       "8979           Yes         No     36  Koramangala 7th Block   \n",
       "39989           No         No      0               Majestic   \n",
       "...            ...        ...    ...                    ...   \n",
       "16191          Yes         No    287  Koramangala 4th Block   \n",
       "25682           No         No     14           Kalyan Nagar   \n",
       "24970           No         No      0           Kammanahalli   \n",
       "23594          Yes         No     74              Jayanagar   \n",
       "33844          Yes         No     47  Koramangala 6th Block   \n",
       "\n",
       "                rest_type  cost_two service_type  \n",
       "18634  Takeaway, Delivery     400.0     Desserts  \n",
       "28579       Casual Dining     750.0     Dine-out  \n",
       "9578                 Cafe     500.0     Delivery  \n",
       "8979        Beverage Shop     300.0     Delivery  \n",
       "39989            Takeaway     300.0     Delivery  \n",
       "...                   ...       ...          ...  \n",
       "16191            Delivery     400.0     Delivery  \n",
       "25682       Casual Dining     600.0     Delivery  \n",
       "24970         Quick Bites     250.0     Dine-out  \n",
       "23594       Casual Dining     800.0     Dine-out  \n",
       "33844       Casual Dining     800.0     Dine-out  \n",
       "\n",
       "[41192 rows x 7 columns]"
      ]
     },
     "execution_count": 25,
     "metadata": {},
     "output_type": "execute_result"
    }
   ],
   "source": [
    "X_train"
   ]
  },
  {
   "cell_type": "code",
   "execution_count": 26,
   "metadata": {},
   "outputs": [],
   "source": [
    "#one hot encoding columns \n",
    "trf1=ColumnTransformer([\n",
    "    ('ohe',OneHotEncoder(sparse=False,handle_unknown='ignore'),[0,1,3,4,6])\n",
    "],remainder='passthrough')"
   ]
  },
  {
   "cell_type": "code",
   "execution_count": 27,
   "metadata": {},
   "outputs": [],
   "source": [
    "#model \n",
    "from sklearn.ensemble import RandomForestRegressor\n",
    "from sklearn.linear_model import LinearRegression\n",
    "from sklearn.svm import SVC\n",
    "trf2= RandomForestRegressor()\n",
    "trf3=LinearRegression()\n",
    "trf4=SVC()"
   ]
  },
  {
   "cell_type": "code",
   "execution_count": 34,
   "metadata": {},
   "outputs": [],
   "source": [
    "#Random forest \n",
    "pipe=Pipeline([\n",
    "    ('trf1',trf1),\n",
    "    ('trf2',trf2)\n",
    "])\n"
   ]
  },
  {
   "cell_type": "code",
   "execution_count": 29,
   "metadata": {},
   "outputs": [
    {
     "data": {
      "text/html": [
       "<div>\n",
       "<style scoped>\n",
       "    .dataframe tbody tr th:only-of-type {\n",
       "        vertical-align: middle;\n",
       "    }\n",
       "\n",
       "    .dataframe tbody tr th {\n",
       "        vertical-align: top;\n",
       "    }\n",
       "\n",
       "    .dataframe thead th {\n",
       "        text-align: right;\n",
       "    }\n",
       "</style>\n",
       "<table border=\"1\" class=\"dataframe\">\n",
       "  <thead>\n",
       "    <tr style=\"text-align: right;\">\n",
       "      <th></th>\n",
       "      <th>online_order</th>\n",
       "      <th>book_table</th>\n",
       "      <th>votes</th>\n",
       "      <th>location</th>\n",
       "      <th>rest_type</th>\n",
       "      <th>cost_two</th>\n",
       "      <th>service_type</th>\n",
       "    </tr>\n",
       "  </thead>\n",
       "  <tbody>\n",
       "    <tr>\n",
       "      <th>18634</th>\n",
       "      <td>No</td>\n",
       "      <td>No</td>\n",
       "      <td>9</td>\n",
       "      <td>Old Airport Road</td>\n",
       "      <td>Takeaway, Delivery</td>\n",
       "      <td>400.0</td>\n",
       "      <td>Desserts</td>\n",
       "    </tr>\n",
       "    <tr>\n",
       "      <th>28579</th>\n",
       "      <td>Yes</td>\n",
       "      <td>No</td>\n",
       "      <td>394</td>\n",
       "      <td>Koramangala 7th Block</td>\n",
       "      <td>Casual Dining</td>\n",
       "      <td>750.0</td>\n",
       "      <td>Dine-out</td>\n",
       "    </tr>\n",
       "    <tr>\n",
       "      <th>9578</th>\n",
       "      <td>No</td>\n",
       "      <td>No</td>\n",
       "      <td>22</td>\n",
       "      <td>BTM</td>\n",
       "      <td>Cafe</td>\n",
       "      <td>500.0</td>\n",
       "      <td>Delivery</td>\n",
       "    </tr>\n",
       "    <tr>\n",
       "      <th>8979</th>\n",
       "      <td>Yes</td>\n",
       "      <td>No</td>\n",
       "      <td>36</td>\n",
       "      <td>Koramangala 7th Block</td>\n",
       "      <td>Beverage Shop</td>\n",
       "      <td>300.0</td>\n",
       "      <td>Delivery</td>\n",
       "    </tr>\n",
       "    <tr>\n",
       "      <th>39989</th>\n",
       "      <td>No</td>\n",
       "      <td>No</td>\n",
       "      <td>0</td>\n",
       "      <td>Majestic</td>\n",
       "      <td>Takeaway</td>\n",
       "      <td>300.0</td>\n",
       "      <td>Delivery</td>\n",
       "    </tr>\n",
       "  </tbody>\n",
       "</table>\n",
       "</div>"
      ],
      "text/plain": [
       "      online_order book_table  votes               location  \\\n",
       "18634           No         No      9       Old Airport Road   \n",
       "28579          Yes         No    394  Koramangala 7th Block   \n",
       "9578            No         No     22                    BTM   \n",
       "8979           Yes         No     36  Koramangala 7th Block   \n",
       "39989           No         No      0               Majestic   \n",
       "\n",
       "                rest_type  cost_two service_type  \n",
       "18634  Takeaway, Delivery     400.0     Desserts  \n",
       "28579       Casual Dining     750.0     Dine-out  \n",
       "9578                 Cafe     500.0     Delivery  \n",
       "8979        Beverage Shop     300.0     Delivery  \n",
       "39989            Takeaway     300.0     Delivery  "
      ]
     },
     "execution_count": 29,
     "metadata": {},
     "output_type": "execute_result"
    }
   ],
   "source": [
    "X_train.head()"
   ]
  },
  {
   "cell_type": "code",
   "execution_count": 35,
   "metadata": {},
   "outputs": [
    {
     "data": {
      "text/html": [
       "<style>#sk-8be39b4c-f975-4f12-adc2-54ecfb5f51cf {color: black;background-color: white;}#sk-8be39b4c-f975-4f12-adc2-54ecfb5f51cf pre{padding: 0;}#sk-8be39b4c-f975-4f12-adc2-54ecfb5f51cf div.sk-toggleable {background-color: white;}#sk-8be39b4c-f975-4f12-adc2-54ecfb5f51cf label.sk-toggleable__label {cursor: pointer;display: block;width: 100%;margin-bottom: 0;padding: 0.2em 0.3em;box-sizing: border-box;text-align: center;}#sk-8be39b4c-f975-4f12-adc2-54ecfb5f51cf div.sk-toggleable__content {max-height: 0;max-width: 0;overflow: hidden;text-align: left;background-color: #f0f8ff;}#sk-8be39b4c-f975-4f12-adc2-54ecfb5f51cf div.sk-toggleable__content pre {margin: 0.2em;color: black;border-radius: 0.25em;background-color: #f0f8ff;}#sk-8be39b4c-f975-4f12-adc2-54ecfb5f51cf input.sk-toggleable__control:checked~div.sk-toggleable__content {max-height: 200px;max-width: 100%;overflow: auto;}#sk-8be39b4c-f975-4f12-adc2-54ecfb5f51cf div.sk-estimator input.sk-toggleable__control:checked~label.sk-toggleable__label {background-color: #d4ebff;}#sk-8be39b4c-f975-4f12-adc2-54ecfb5f51cf div.sk-label input.sk-toggleable__control:checked~label.sk-toggleable__label {background-color: #d4ebff;}#sk-8be39b4c-f975-4f12-adc2-54ecfb5f51cf input.sk-hidden--visually {border: 0;clip: rect(1px 1px 1px 1px);clip: rect(1px, 1px, 1px, 1px);height: 1px;margin: -1px;overflow: hidden;padding: 0;position: absolute;width: 1px;}#sk-8be39b4c-f975-4f12-adc2-54ecfb5f51cf div.sk-estimator {font-family: monospace;background-color: #f0f8ff;margin: 0.25em 0.25em;border: 1px dotted black;border-radius: 0.25em;box-sizing: border-box;}#sk-8be39b4c-f975-4f12-adc2-54ecfb5f51cf div.sk-estimator:hover {background-color: #d4ebff;}#sk-8be39b4c-f975-4f12-adc2-54ecfb5f51cf div.sk-parallel-item::after {content: \"\";width: 100%;border-bottom: 1px solid gray;flex-grow: 1;}#sk-8be39b4c-f975-4f12-adc2-54ecfb5f51cf div.sk-label:hover label.sk-toggleable__label {background-color: #d4ebff;}#sk-8be39b4c-f975-4f12-adc2-54ecfb5f51cf div.sk-serial::before {content: \"\";position: absolute;border-left: 1px solid gray;box-sizing: border-box;top: 2em;bottom: 0;left: 50%;}#sk-8be39b4c-f975-4f12-adc2-54ecfb5f51cf div.sk-serial {display: flex;flex-direction: column;align-items: center;background-color: white;}#sk-8be39b4c-f975-4f12-adc2-54ecfb5f51cf div.sk-item {z-index: 1;}#sk-8be39b4c-f975-4f12-adc2-54ecfb5f51cf div.sk-parallel {display: flex;align-items: stretch;justify-content: center;background-color: white;}#sk-8be39b4c-f975-4f12-adc2-54ecfb5f51cf div.sk-parallel-item {display: flex;flex-direction: column;position: relative;background-color: white;}#sk-8be39b4c-f975-4f12-adc2-54ecfb5f51cf div.sk-parallel-item:first-child::after {align-self: flex-end;width: 50%;}#sk-8be39b4c-f975-4f12-adc2-54ecfb5f51cf div.sk-parallel-item:last-child::after {align-self: flex-start;width: 50%;}#sk-8be39b4c-f975-4f12-adc2-54ecfb5f51cf div.sk-parallel-item:only-child::after {width: 0;}#sk-8be39b4c-f975-4f12-adc2-54ecfb5f51cf div.sk-dashed-wrapped {border: 1px dashed gray;margin: 0.2em;box-sizing: border-box;padding-bottom: 0.1em;background-color: white;position: relative;}#sk-8be39b4c-f975-4f12-adc2-54ecfb5f51cf div.sk-label label {font-family: monospace;font-weight: bold;background-color: white;display: inline-block;line-height: 1.2em;}#sk-8be39b4c-f975-4f12-adc2-54ecfb5f51cf div.sk-label-container {position: relative;z-index: 2;text-align: center;}#sk-8be39b4c-f975-4f12-adc2-54ecfb5f51cf div.sk-container {display: inline-block;position: relative;}</style><div id=\"sk-8be39b4c-f975-4f12-adc2-54ecfb5f51cf\" class\"sk-top-container\"><div class=\"sk-container\"><div class=\"sk-item sk-dashed-wrapped\"><div class=\"sk-label-container\"><div class=\"sk-label sk-toggleable\"><input class=\"sk-toggleable__control sk-hidden--visually\" id=\"7e3d9eb1-a2c1-47df-992b-69afabd5fd44\" type=\"checkbox\" ><label class=\"sk-toggleable__label\" for=\"7e3d9eb1-a2c1-47df-992b-69afabd5fd44\">Pipeline</label><div class=\"sk-toggleable__content\"><pre>Pipeline(steps=[('trf1',\n",
       "                 ColumnTransformer(remainder='passthrough',\n",
       "                                   transformers=[('ohe',\n",
       "                                                  OneHotEncoder(handle_unknown='ignore',\n",
       "                                                                sparse=False),\n",
       "                                                  [0, 1, 3, 4, 6])])),\n",
       "                ('trf2', RandomForestRegressor())])</pre></div></div></div><div class=\"sk-serial\"><div class=\"sk-item sk-dashed-wrapped\"><div class=\"sk-label-container\"><div class=\"sk-label sk-toggleable\"><input class=\"sk-toggleable__control sk-hidden--visually\" id=\"52758898-1489-41f1-bcb5-5f8512cb5a7b\" type=\"checkbox\" ><label class=\"sk-toggleable__label\" for=\"52758898-1489-41f1-bcb5-5f8512cb5a7b\">trf1: ColumnTransformer</label><div class=\"sk-toggleable__content\"><pre>ColumnTransformer(remainder='passthrough',\n",
       "                  transformers=[('ohe',\n",
       "                                 OneHotEncoder(handle_unknown='ignore',\n",
       "                                               sparse=False),\n",
       "                                 [0, 1, 3, 4, 6])])</pre></div></div></div><div class=\"sk-parallel\"><div class=\"sk-parallel-item\"><div class=\"sk-item\"><div class=\"sk-label-container\"><div class=\"sk-label sk-toggleable\"><input class=\"sk-toggleable__control sk-hidden--visually\" id=\"764f4b52-75c7-444d-bca1-7c79db4067ac\" type=\"checkbox\" ><label class=\"sk-toggleable__label\" for=\"764f4b52-75c7-444d-bca1-7c79db4067ac\">ohe</label><div class=\"sk-toggleable__content\"><pre>[0, 1, 3, 4, 6]</pre></div></div></div><div class=\"sk-serial\"><div class=\"sk-item\"><div class=\"sk-estimator sk-toggleable\"><input class=\"sk-toggleable__control sk-hidden--visually\" id=\"10eac5ae-3b59-4bbd-8bc2-3953184a18ab\" type=\"checkbox\" ><label class=\"sk-toggleable__label\" for=\"10eac5ae-3b59-4bbd-8bc2-3953184a18ab\">OneHotEncoder</label><div class=\"sk-toggleable__content\"><pre>OneHotEncoder(handle_unknown='ignore', sparse=False)</pre></div></div></div></div></div></div><div class=\"sk-parallel-item\"><div class=\"sk-item\"><div class=\"sk-label-container\"><div class=\"sk-label sk-toggleable\"><input class=\"sk-toggleable__control sk-hidden--visually\" id=\"c488b7a1-f8e0-4c7b-999a-fcdbb3cb2bf0\" type=\"checkbox\" ><label class=\"sk-toggleable__label\" for=\"c488b7a1-f8e0-4c7b-999a-fcdbb3cb2bf0\">remainder</label><div class=\"sk-toggleable__content\"><pre>['votes', 'cost_two']</pre></div></div></div><div class=\"sk-serial\"><div class=\"sk-item\"><div class=\"sk-estimator sk-toggleable\"><input class=\"sk-toggleable__control sk-hidden--visually\" id=\"8a1b0834-6d61-4a06-bb1f-c8701f020e01\" type=\"checkbox\" ><label class=\"sk-toggleable__label\" for=\"8a1b0834-6d61-4a06-bb1f-c8701f020e01\">passthrough</label><div class=\"sk-toggleable__content\"><pre>passthrough</pre></div></div></div></div></div></div></div></div><div class=\"sk-item\"><div class=\"sk-estimator sk-toggleable\"><input class=\"sk-toggleable__control sk-hidden--visually\" id=\"e6b43c05-4578-49cf-9d89-62294534e60f\" type=\"checkbox\" ><label class=\"sk-toggleable__label\" for=\"e6b43c05-4578-49cf-9d89-62294534e60f\">RandomForestRegressor</label><div class=\"sk-toggleable__content\"><pre>RandomForestRegressor()</pre></div></div></div></div></div></div></div>"
      ],
      "text/plain": [
       "Pipeline(steps=[('trf1',\n",
       "                 ColumnTransformer(remainder='passthrough',\n",
       "                                   transformers=[('ohe',\n",
       "                                                  OneHotEncoder(handle_unknown='ignore',\n",
       "                                                                sparse=False),\n",
       "                                                  [0, 1, 3, 4, 6])])),\n",
       "                ('trf2', RandomForestRegressor())])"
      ]
     },
     "execution_count": 35,
     "metadata": {},
     "output_type": "execute_result"
    }
   ],
   "source": [
    "pipe.fit(X_train,y_train)"
   ]
  },
  {
   "cell_type": "code",
   "execution_count": 36,
   "metadata": {},
   "outputs": [
    {
     "data": {
      "text/plain": [
       "{'trf1': ColumnTransformer(remainder='passthrough',\n",
       "                   transformers=[('ohe',\n",
       "                                  OneHotEncoder(handle_unknown='ignore',\n",
       "                                                sparse=False),\n",
       "                                  [0, 1, 3, 4, 6])]),\n",
       " 'trf2': RandomForestRegressor()}"
      ]
     },
     "execution_count": 36,
     "metadata": {},
     "output_type": "execute_result"
    }
   ],
   "source": [
    "from sklearn import set_config\n",
    "set_config(display='diagram')\n",
    "pipe.named_steps"
   ]
  },
  {
   "cell_type": "code",
   "execution_count": 37,
   "metadata": {},
   "outputs": [
    {
     "name": "stdout",
     "output_type": "stream",
     "text": [
      "R2 score 0.9059967471598134\n"
     ]
    }
   ],
   "source": [
    "from sklearn.metrics import r2_score,mean_absolute_error\n",
    "y_pred = pipe.predict(X_test)\n",
    "print('R2 score',r2_score(y_test,y_pred))"
   ]
  },
  {
   "cell_type": "markdown",
   "metadata": {},
   "source": [
    "# Exporting model"
   ]
  },
  {
   "cell_type": "code",
   "execution_count": 40,
   "metadata": {},
   "outputs": [],
   "source": [
    "import pickle\n",
    "pickle.dump(data,open('data.pkl','wb'))\n",
    "pickle.dump(pipe,open('pipe.pkl','wb'))"
   ]
  },
  {
   "cell_type": "code",
   "execution_count": 39,
   "metadata": {},
   "outputs": [
    {
     "data": {
      "text/plain": [
       "(51490, 8)"
      ]
     },
     "execution_count": 39,
     "metadata": {},
     "output_type": "execute_result"
    }
   ],
   "source": []
  },
  {
   "cell_type": "code",
   "execution_count": null,
   "metadata": {},
   "outputs": [],
   "source": []
  }
 ],
 "metadata": {
  "kernelspec": {
   "display_name": "Python 3",
   "language": "python",
   "name": "python3"
  },
  "language_info": {
   "codemirror_mode": {
    "name": "ipython",
    "version": 3
   },
   "file_extension": ".py",
   "mimetype": "text/x-python",
   "name": "python",
   "nbconvert_exporter": "python",
   "pygments_lexer": "ipython3",
   "version": "3.7.6"
  }
 },
 "nbformat": 4,
 "nbformat_minor": 4
}
